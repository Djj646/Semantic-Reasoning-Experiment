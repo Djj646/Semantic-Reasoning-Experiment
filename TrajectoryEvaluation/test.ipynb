{
 "cells": [
  {
   "cell_type": "code",
   "execution_count": null,
   "metadata": {},
   "outputs": [],
   "source": [
    "centerline = [(1, 2), (3, 6), (5, 4), (2, 9), (8, 1)]\n",
    "\n",
    "# 使用 lambda 表达式获取 y 坐标\n",
    "max_y = max(centerline, key=lambda item: item[1])\n",
    "min_y = min(centerline, key=lambda item: item[1])\n",
    "\n",
    "print(\"y 坐标最大的点是:\", max_y)\n",
    "print(\"y 坐标最小的点是:\", min_y)"
   ]
  },
  {
   "cell_type": "code",
   "execution_count": null,
   "metadata": {},
   "outputs": [],
   "source": [
    "2**2, 2^2"
   ]
  },
  {
   "cell_type": "code",
   "execution_count": null,
   "metadata": {},
   "outputs": [],
   "source": [
    "h, w = (1, 2)"
   ]
  },
  {
   "cell_type": "code",
   "execution_count": null,
   "metadata": {},
   "outputs": [],
   "source": [
    "h"
   ]
  },
  {
   "cell_type": "code",
   "execution_count": null,
   "metadata": {},
   "outputs": [],
   "source": [
    "import cv2\n",
    "\n",
    "# item_path = './result/pm_insert/1685429070.534417.png'\n",
    "item_path = 'E:/CARLADataset/Town03/1/pm/1685429070.534417.png'\n",
    "item = cv2.imread(item_path, cv2.IMREAD_GRAYSCALE)\n",
    "item2 = cv2.imread(item_path)\n",
    "\n",
    "item.shape"
   ]
  },
  {
   "cell_type": "code",
   "execution_count": null,
   "metadata": {},
   "outputs": [],
   "source": [
    "cv2.imshow('item2', item2)\n",
    "\n",
    "cv2.waitKey(0)"
   ]
  },
  {
   "cell_type": "code",
   "execution_count": null,
   "metadata": {},
   "outputs": [],
   "source": [
    "import cv2\n",
    "import numpy as np\n",
    "\n",
    "# 读取黑白图片\n",
    "image1 = cv2.imread('E:/CARLADataset/Town03/1/pm/1685429113.818507.png', cv2.IMREAD_GRAYSCALE)\n",
    "cv2.imshow('image1', image1)\n",
    "cv2.waitKey(0)\n",
    "\n",
    "# 将图片转换为二值化形式，设置阈值为 127（假设大于阈值的像素为白色，小于阈值的像素为黑色）\n",
    "_, binary_image = cv2.threshold(image1, 127, 255, cv2.THRESH_BINARY)\n",
    "\n",
    "# 获取白色像素的位置\n",
    "white_pixel_indices = np.where(binary_image == 255)\n",
    "white_pixel_positions = list(zip(white_pixel_indices[0], white_pixel_indices[1]))\n",
    "\n",
    "# 计算白色像素的数量和比例\n",
    "white_pixel_count = len(white_pixel_positions)\n",
    "white_pixel_ratio = white_pixel_count / (binary_image.shape[0] * binary_image.shape[1])\n",
    "\n",
    "print(\"白色像素数量:\", white_pixel_count)\n",
    "print(\"白色像素比例:\", white_pixel_ratio)\n",
    "print(\"白色像素位置:\", white_pixel_positions)\n"
   ]
  },
  {
   "cell_type": "code",
   "execution_count": null,
   "metadata": {},
   "outputs": [],
   "source": [
    "import cv2\n",
    "import numpy as np\n",
    "\n",
    "# 读取彩色图片\n",
    "image2 = cv2.imread('result/pm_insert/1685429113.818507.png')\n",
    "image2 = cv2.resize(image2, (640,360))\n",
    "cv2.imshow('image2', image2)\n",
    "cv2.waitKey(0)\n",
    "\n",
    "\n",
    "# 定义绿色的RGB范围（以BGR格式表示）\n",
    "green_lower = np.array([0, 240, 0], dtype=np.uint8)\n",
    "green_upper = np.array([10, 255, 10], dtype=np.uint8)\n",
    "\n",
    "# 创建掩膜，提取绿色像素\n",
    "mask = cv2.inRange(image2, green_lower, green_upper)\n",
    "\n",
    "# 获取绿色像素的位置\n",
    "green_pixel_indices = np.where(mask == 255)\n",
    "green_pixel_positions = list(zip(green_pixel_indices[0], green_pixel_indices[1]))\n",
    "\n",
    "# 计算绿色像素的数量和比例\n",
    "green_pixel_count = len(green_pixel_positions)\n",
    "green_pixel_ratio = green_pixel_count / (mask.shape[0] * mask.shape[1])\n",
    "\n",
    "print(\"绿色像素数量:\", green_pixel_count)\n",
    "print(\"绿色像素比例:\", green_pixel_ratio)\n",
    "print(\"绿色像素位置:\", green_pixel_positions)"
   ]
  },
  {
   "cell_type": "code",
   "execution_count": null,
   "metadata": {},
   "outputs": [],
   "source": [
    "# 计算白色像素和绿色像素重合的部分\n",
    "overlapping_positions = [pos for pos in white_pixel_positions if pos in green_pixel_positions]\n",
    "# or any(np.linalg.norm(np.array(pos) - np.array(green_pos)) < 2 for green_pos in green_pixel_positions)\n",
    "\n",
    "# 计算重合部分像素的数量和比例\n",
    "overlapping_count = len(overlapping_positions)\n",
    "overlapping_ratio = overlapping_count / len(white_pixel_positions)\n",
    "\n",
    "print(overlapping_ratio)"
   ]
  },
  {
   "cell_type": "code",
   "execution_count": null,
   "metadata": {},
   "outputs": [],
   "source": [
    "len(white_pixel_positions)"
   ]
  },
  {
   "cell_type": "code",
   "execution_count": null,
   "metadata": {},
   "outputs": [],
   "source": [
    "# 计算白色像素每行的中心点坐标位置\n",
    "white_centerline = []\n",
    "for y in np.unique(white_pixel_indices[0]):\n",
    "    row_positions = [pos[1] for pos in white_pixel_positions if pos[0] == y]\n",
    "    center_x = sum(row_positions) / len(row_positions)\n",
    "    white_centerline.append((center_x, y))\n",
    "\n",
    "# 计算绿色像素每行的中心点坐标位置\n",
    "green_centerline = []\n",
    "for y in np.unique(green_pixel_indices[0]):\n",
    "    row_positions = [pos[1] for pos in green_pixel_positions if pos[0] == y]\n",
    "    center_x = sum(row_positions) / len(row_positions)\n",
    "    green_centerline.append((center_x, y))"
   ]
  },
  {
   "cell_type": "code",
   "execution_count": null,
   "metadata": {},
   "outputs": [],
   "source": [
    "# np.unique(green_pixel_indices[0])\n",
    "# np.unique([coord[1] for coord in green_pixel_indices])\n",
    "green_pixel_indices[0]"
   ]
  },
  {
   "cell_type": "code",
   "execution_count": null,
   "metadata": {},
   "outputs": [],
   "source": [
    "# 提取最高点和最低点的坐标\n",
    "highest_point = white_centerline[0]\n",
    "lowest_point = white_centerline[-1]\n",
    "\n",
    "# 转换为整数坐标\n",
    "highest_point = (int(highest_point[0]), int(highest_point[1]))\n",
    "lowest_point = (int(lowest_point[0]), int(lowest_point[1]))\n",
    "\n",
    "image_marked1 = image2.copy()\n",
    "# 绘制红线连接最高点和最低点\n",
    "cv2.line(image_marked1, highest_point, lowest_point, (0, 0, 255), 2)\n",
    "\n",
    "# 显示带有红线的图像\n",
    "cv2.imshow(\"Marked Image\", image_marked1)\n",
    "cv2.waitKey(0)\n",
    "cv2.destroyAllWindows()"
   ]
  },
  {
   "cell_type": "code",
   "execution_count": null,
   "metadata": {},
   "outputs": [],
   "source": [
    "# 创建一个与原图像相同大小的副本，以便绘制标记\n",
    "image_marked2 = image2.copy()\n",
    "\n",
    "# 将绿色中心线的位置用红色标记\n",
    "for coord in green_centerline:\n",
    "    x, y = coord\n",
    "    x = int(x)  # 将坐标转换为整数类型\n",
    "    y = int(y)\n",
    "    cv2.circle(image_marked2, (x, y), 2, (0, 0, 255), -1)\n",
    "\n",
    "# 展示标记后的图像\n",
    "cv2.imshow('Marked Image', image_marked2)\n",
    "cv2.waitKey(0)\n",
    "cv2.destroyAllWindows()"
   ]
  },
  {
   "cell_type": "code",
   "execution_count": null,
   "metadata": {},
   "outputs": [],
   "source": [
    "# 计算green_centerline中坐标包含在white_pixel_positions的比例\n",
    "green_in_white_count = 0\n",
    "for coord in green_centerline:\n",
    "    if coord in white_pixel_positions:\n",
    "        green_in_white_count += 1\n",
    "\n",
    "green_in_white_ratio = green_in_white_count / len(green_centerline)\n",
    "print(\"绿色中心线中在白色像素中的比例: \", green_in_white_ratio)"
   ]
  },
  {
   "cell_type": "code",
   "execution_count": null,
   "metadata": {},
   "outputs": [],
   "source": [
    "# 读取彩色图片\n",
    "image3 = cv2.imread('result/pm_insert/1685429113.818507.png')\n",
    "image3 = cv2.resize(image3, (640,360))\n",
    "cv2.imwrite('test1.png', image3)\n"
   ]
  },
  {
   "cell_type": "code",
   "execution_count": null,
   "metadata": {},
   "outputs": [],
   "source": [
    "# 读取两张图像\n",
    "image1 = cv2.imread('test1.png')\n",
    "image2 = cv2.imread('test1_label.png')\n",
    "\n",
    "# 确保两张图像尺寸相同\n",
    "image1 = cv2.resize(image1, (image2.shape[1], image2.shape[0]))"
   ]
  },
  {
   "cell_type": "code",
   "execution_count": null,
   "metadata": {},
   "outputs": [],
   "source": [
    "# 为两张图像创建一个融合后的图像\n",
    "blended_image = cv2.addWeighted(image1, 0.5, image2, 0.5, 0)\n",
    "\n",
    "# 显示融合后的图像\n",
    "cv2.imshow('Blended Image', blended_image)\n",
    "cv2.waitKey(0)\n",
    "cv2.destroyAllWindows()"
   ]
  },
  {
   "cell_type": "code",
   "execution_count": 2,
   "metadata": {},
   "outputs": [],
   "source": [
    "import cv2\n",
    "\n",
    "from utils.io import read_png\n",
    "from utils.distortion import apply_distortion\n",
    "\n",
    "nav = read_png(path='E:/CARLADataset/Town03/1/nav',file_name=1685429099.4925046)\n",
    "nav_inter = apply_distortion(nav, error_rate=1)\n",
    "\n",
    "# 显示干扰后的图像\n",
    "cv2.imshow('nav', nav)\n",
    "cv2.imshow('nav_inter', nav_inter)\n",
    "cv2.waitKey(0)\n",
    "cv2.destroyAllWindows()"
   ]
  },
  {
   "cell_type": "code",
   "execution_count": null,
   "metadata": {},
   "outputs": [],
   "source": []
  }
 ],
 "metadata": {
  "kernelspec": {
   "display_name": "CarlaPy",
   "language": "python",
   "name": "python3"
  },
  "language_info": {
   "codemirror_mode": {
    "name": "ipython",
    "version": 3
   },
   "file_extension": ".py",
   "mimetype": "text/x-python",
   "name": "python",
   "nbconvert_exporter": "python",
   "pygments_lexer": "ipython3",
   "version": "3.7.13"
  },
  "orig_nbformat": 4
 },
 "nbformat": 4,
 "nbformat_minor": 2
}
